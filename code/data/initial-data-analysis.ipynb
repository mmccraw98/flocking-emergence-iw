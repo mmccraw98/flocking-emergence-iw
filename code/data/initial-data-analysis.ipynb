{
 "cells": [
  {
   "cell_type": "code",
   "execution_count": 104,
   "metadata": {},
   "outputs": [],
   "source": [
    "import pandas as pd\n",
    "import numpy as np\n",
    "import matplotlib.pyplot as plt\n",
    "\n",
    "import os\n",
    "import re\n",
    "\n",
    "import h5py\n",
    "from tqdm import tqdm\n",
    "\n",
    "from utils import load_and_format_data_as_df, get_birds_in_time_range"
   ]
  },
  {
   "cell_type": "code",
   "execution_count": null,
   "metadata": {},
   "outputs": [],
   "source": [
    "# # this will load the data from the hdf5 file and format it as a pandas dataframe\n",
    "# # the hdf5 files need to be in the current directory (same as the notebook)\n",
    "# # ONLY RUN THIS CELL ONCE TO GET THE CSV FILES\n",
    "\n",
    "# for dirname, _, filenames in os.walk('./'):\n",
    "#     for filename in filenames:\n",
    "#         path = os.path.join(dirname, filename)\n",
    "#         if '.hdf5' in filename:\n",
    "#             print(f'loading {path}')\n",
    "#             df = load_and_format_data_as_df(path)\n",
    "#             df.to_csv(f\"./{filename.replace('.hdf5', '.csv')}\", index=False)\n",
    "#             print(f'saved under {filename.replace(\".hdf5\", \".csv\")}')"
   ]
  },
  {
   "cell_type": "code",
   "execution_count": 2,
   "metadata": {},
   "outputs": [],
   "source": [
    "df_A = pd.read_csv('A_nodes.csv', index_col=0)\n",
    "df_B = pd.read_csv('B_nodes.csv', index_col=0)\n",
    "df_C = pd.read_csv('C_nodes.csv', index_col=0)"
   ]
  },
  {
   "cell_type": "code",
   "execution_count": null,
   "metadata": {},
   "outputs": [],
   "source": [
    "# data encompasses \"flock formation, circling, and landing\" over a 30 minute period\n",
    "# ~1800 chimney swift birds\n",
    "# there are regions reported where the birds are highly correlated - when flying - and less correlated - when landing - as the intention of the study"
   ]
  },
  {
   "cell_type": "code",
   "execution_count": 11,
   "metadata": {},
   "outputs": [
    {
     "data": {
      "text/plain": [
       "(8.505727950172396, 9.431653876098322, 8.19263708152597)"
      ]
     },
     "execution_count": 11,
     "metadata": {},
     "output_type": "execute_result"
    }
   ],
   "source": [
    "# range of time in minutes\n",
    "(df_A.time.max() - df_A.time.min()) / 60, (df_B.time.max() - df_B.time.min()) / 60, (df_C.time.max() - df_C.time.min()) / 60"
   ]
  },
  {
   "cell_type": "code",
   "execution_count": 20,
   "metadata": {},
   "outputs": [
    {
     "data": {
      "text/plain": [
       "count    24966.000000\n",
       "mean         7.405351\n",
       "std          6.848828\n",
       "min          0.934268\n",
       "25%          2.535869\n",
       "50%          5.071738\n",
       "75%         10.010010\n",
       "max        100.066733\n",
       "dtype: float64"
      ]
     },
     "execution_count": 20,
     "metadata": {},
     "output_type": "execute_result"
    }
   ],
   "source": [
    "# individual time ranges for tracks\n",
    "# A\n",
    "df_A.groupby('tid').apply(lambda x: x.time.max() - x.time.min()).describe()"
   ]
  },
  {
   "cell_type": "code",
   "execution_count": 21,
   "metadata": {},
   "outputs": [
    {
     "data": {
      "text/plain": [
       "count    78498.000000\n",
       "mean         6.520097\n",
       "std          5.619826\n",
       "min          0.934268\n",
       "25%          2.435769\n",
       "50%          4.671338\n",
       "75%          8.842176\n",
       "max         59.092426\n",
       "dtype: float64"
      ]
     },
     "execution_count": 21,
     "metadata": {},
     "output_type": "execute_result"
    }
   ],
   "source": [
    "# individual time ranges for tracks\n",
    "# B\n",
    "df_B.groupby('tid').apply(lambda x: x.time.max() - x.time.min()).describe()"
   ]
  },
  {
   "cell_type": "code",
   "execution_count": 22,
   "metadata": {},
   "outputs": [
    {
     "data": {
      "text/plain": [
       "count    39403.000000\n",
       "mean         4.478242\n",
       "std          3.859843\n",
       "min          0.934268\n",
       "25%          1.968635\n",
       "50%          3.169837\n",
       "75%          5.472139\n",
       "max         42.442442\n",
       "dtype: float64"
      ]
     },
     "execution_count": 22,
     "metadata": {},
     "output_type": "execute_result"
    }
   ],
   "source": [
    "# individual time ranges for tracks\n",
    "# C\n",
    "df_C.groupby('tid').apply(lambda x: x.time.max() - x.time.min()).describe()"
   ]
  },
  {
   "cell_type": "code",
   "execution_count": 103,
   "metadata": {},
   "outputs": [
    {
     "data": {
      "text/html": [
       "<div>\n",
       "<style scoped>\n",
       "    .dataframe tbody tr th:only-of-type {\n",
       "        vertical-align: middle;\n",
       "    }\n",
       "\n",
       "    .dataframe tbody tr th {\n",
       "        vertical-align: top;\n",
       "    }\n",
       "\n",
       "    .dataframe thead th {\n",
       "        text-align: right;\n",
       "    }\n",
       "</style>\n",
       "<table border=\"1\" class=\"dataframe\">\n",
       "  <thead>\n",
       "    <tr style=\"text-align: right;\">\n",
       "      <th></th>\n",
       "      <th>V</th>\n",
       "      <th>hdg</th>\n",
       "      <th>hdg_rate</th>\n",
       "      <th>tid</th>\n",
       "      <th>vx</th>\n",
       "      <th>vy</th>\n",
       "      <th>vz</th>\n",
       "      <th>x</th>\n",
       "      <th>y</th>\n",
       "      <th>z</th>\n",
       "      <th>time</th>\n",
       "    </tr>\n",
       "  </thead>\n",
       "  <tbody>\n",
       "    <tr>\n",
       "      <th>640622</th>\n",
       "      <td>3.363078</td>\n",
       "      <td>141.568420</td>\n",
       "      <td>-4.837680</td>\n",
       "      <td>740.0</td>\n",
       "      <td>-2.616330</td>\n",
       "      <td>2.076026</td>\n",
       "      <td>-0.393989</td>\n",
       "      <td>23.094999</td>\n",
       "      <td>53.719002</td>\n",
       "      <td>48.104000</td>\n",
       "      <td>40.006673</td>\n",
       "    </tr>\n",
       "    <tr>\n",
       "      <th>640623</th>\n",
       "      <td>4.791535</td>\n",
       "      <td>184.965073</td>\n",
       "      <td>9.016342</td>\n",
       "      <td>741.0</td>\n",
       "      <td>-4.667496</td>\n",
       "      <td>-0.405486</td>\n",
       "      <td>-1.004425</td>\n",
       "      <td>-30.546000</td>\n",
       "      <td>35.678001</td>\n",
       "      <td>24.851000</td>\n",
       "      <td>40.006673</td>\n",
       "    </tr>\n",
       "    <tr>\n",
       "      <th>640624</th>\n",
       "      <td>5.903653</td>\n",
       "      <td>201.401077</td>\n",
       "      <td>17.967407</td>\n",
       "      <td>746.0</td>\n",
       "      <td>-5.465564</td>\n",
       "      <td>-2.142050</td>\n",
       "      <td>-0.626382</td>\n",
       "      <td>-43.201000</td>\n",
       "      <td>57.820000</td>\n",
       "      <td>26.136999</td>\n",
       "      <td>40.006673</td>\n",
       "    </tr>\n",
       "    <tr>\n",
       "      <th>640625</th>\n",
       "      <td>4.376662</td>\n",
       "      <td>146.325424</td>\n",
       "      <td>11.189796</td>\n",
       "      <td>747.0</td>\n",
       "      <td>-3.641464</td>\n",
       "      <td>2.426221</td>\n",
       "      <td>-0.091429</td>\n",
       "      <td>-44.298000</td>\n",
       "      <td>21.427999</td>\n",
       "      <td>43.200001</td>\n",
       "      <td>40.006673</td>\n",
       "    </tr>\n",
       "    <tr>\n",
       "      <th>640626</th>\n",
       "      <td>4.325809</td>\n",
       "      <td>107.295685</td>\n",
       "      <td>21.896231</td>\n",
       "      <td>748.0</td>\n",
       "      <td>-1.285429</td>\n",
       "      <td>4.128131</td>\n",
       "      <td>-0.137233</td>\n",
       "      <td>-28.393999</td>\n",
       "      <td>48.778999</td>\n",
       "      <td>33.161999</td>\n",
       "      <td>40.006673</td>\n",
       "    </tr>\n",
       "    <tr>\n",
       "      <th>...</th>\n",
       "      <td>...</td>\n",
       "      <td>...</td>\n",
       "      <td>...</td>\n",
       "      <td>...</td>\n",
       "      <td>...</td>\n",
       "      <td>...</td>\n",
       "      <td>...</td>\n",
       "      <td>...</td>\n",
       "      <td>...</td>\n",
       "      <td>...</td>\n",
       "      <td>...</td>\n",
       "    </tr>\n",
       "    <tr>\n",
       "      <th>1175574</th>\n",
       "      <td>4.335289</td>\n",
       "      <td>153.155807</td>\n",
       "      <td>-18.847616</td>\n",
       "      <td>1110.0</td>\n",
       "      <td>-3.856245</td>\n",
       "      <td>1.951665</td>\n",
       "      <td>-0.339273</td>\n",
       "      <td>-16.099001</td>\n",
       "      <td>15.743000</td>\n",
       "      <td>40.852001</td>\n",
       "      <td>44.978312</td>\n",
       "    </tr>\n",
       "    <tr>\n",
       "      <th>1175586</th>\n",
       "      <td>5.836926</td>\n",
       "      <td>209.760086</td>\n",
       "      <td>-11.698069</td>\n",
       "      <td>1289.0</td>\n",
       "      <td>-5.066691</td>\n",
       "      <td>-2.897037</td>\n",
       "      <td>0.074384</td>\n",
       "      <td>20.823000</td>\n",
       "      <td>44.570999</td>\n",
       "      <td>25.780001</td>\n",
       "      <td>44.978312</td>\n",
       "    </tr>\n",
       "    <tr>\n",
       "      <th>1175588</th>\n",
       "      <td>6.206317</td>\n",
       "      <td>178.804810</td>\n",
       "      <td>-30.006010</td>\n",
       "      <td>1391.0</td>\n",
       "      <td>-6.203670</td>\n",
       "      <td>0.129427</td>\n",
       "      <td>0.126908</td>\n",
       "      <td>4.980200</td>\n",
       "      <td>16.142000</td>\n",
       "      <td>27.521000</td>\n",
       "      <td>44.978312</td>\n",
       "    </tr>\n",
       "    <tr>\n",
       "      <th>1175589</th>\n",
       "      <td>4.897807</td>\n",
       "      <td>150.849640</td>\n",
       "      <td>-39.372532</td>\n",
       "      <td>1404.0</td>\n",
       "      <td>-4.243038</td>\n",
       "      <td>2.366531</td>\n",
       "      <td>-0.620221</td>\n",
       "      <td>-36.894001</td>\n",
       "      <td>0.248730</td>\n",
       "      <td>28.547001</td>\n",
       "      <td>44.978312</td>\n",
       "    </tr>\n",
       "    <tr>\n",
       "      <th>1175590</th>\n",
       "      <td>5.831626</td>\n",
       "      <td>184.111328</td>\n",
       "      <td>-33.220474</td>\n",
       "      <td>1415.0</td>\n",
       "      <td>-5.802252</td>\n",
       "      <td>-0.417064</td>\n",
       "      <td>-0.409629</td>\n",
       "      <td>0.472890</td>\n",
       "      <td>13.596000</td>\n",
       "      <td>29.893000</td>\n",
       "      <td>44.978312</td>\n",
       "    </tr>\n",
       "  </tbody>\n",
       "</table>\n",
       "<p>13050 rows × 11 columns</p>\n",
       "</div>"
      ],
      "text/plain": [
       "                V         hdg   hdg_rate     tid        vx        vy  \\\n",
       "640622   3.363078  141.568420  -4.837680   740.0 -2.616330  2.076026   \n",
       "640623   4.791535  184.965073   9.016342   741.0 -4.667496 -0.405486   \n",
       "640624   5.903653  201.401077  17.967407   746.0 -5.465564 -2.142050   \n",
       "640625   4.376662  146.325424  11.189796   747.0 -3.641464  2.426221   \n",
       "640626   4.325809  107.295685  21.896231   748.0 -1.285429  4.128131   \n",
       "...           ...         ...        ...     ...       ...       ...   \n",
       "1175574  4.335289  153.155807 -18.847616  1110.0 -3.856245  1.951665   \n",
       "1175586  5.836926  209.760086 -11.698069  1289.0 -5.066691 -2.897037   \n",
       "1175588  6.206317  178.804810 -30.006010  1391.0 -6.203670  0.129427   \n",
       "1175589  4.897807  150.849640 -39.372532  1404.0 -4.243038  2.366531   \n",
       "1175590  5.831626  184.111328 -33.220474  1415.0 -5.802252 -0.417064   \n",
       "\n",
       "               vz          x          y          z       time  \n",
       "640622  -0.393989  23.094999  53.719002  48.104000  40.006673  \n",
       "640623  -1.004425 -30.546000  35.678001  24.851000  40.006673  \n",
       "640624  -0.626382 -43.201000  57.820000  26.136999  40.006673  \n",
       "640625  -0.091429 -44.298000  21.427999  43.200001  40.006673  \n",
       "640626  -0.137233 -28.393999  48.778999  33.161999  40.006673  \n",
       "...           ...        ...        ...        ...        ...  \n",
       "1175574 -0.339273 -16.099001  15.743000  40.852001  44.978312  \n",
       "1175586  0.074384  20.823000  44.570999  25.780001  44.978312  \n",
       "1175588  0.126908   4.980200  16.142000  27.521000  44.978312  \n",
       "1175589 -0.620221 -36.894001   0.248730  28.547001  44.978312  \n",
       "1175590 -0.409629   0.472890  13.596000  29.893000  44.978312  \n",
       "\n",
       "[13050 rows x 11 columns]"
      ]
     },
     "execution_count": 103,
     "metadata": {},
     "output_type": "execute_result"
    }
   ],
   "source": [
    "# get all tracks that last for the entire duration\n",
    "\n",
    "df = df_A.copy()\n",
    "\n",
    "time_start = 40\n",
    "time_end = 45\n",
    "\n",
    "\n",
    "\n",
    "\n",
    "get_birds_in_time_range(df, time_start, time_end)"
   ]
  },
  {
   "cell_type": "code",
   "execution_count": 65,
   "metadata": {},
   "outputs": [],
   "source": [
    "# calculate velocity order parameter\n",
    "\n"
   ]
  }
 ],
 "metadata": {
  "kernelspec": {
   "display_name": "dev",
   "language": "python",
   "name": "python3"
  },
  "language_info": {
   "codemirror_mode": {
    "name": "ipython",
    "version": 3
   },
   "file_extension": ".py",
   "mimetype": "text/x-python",
   "name": "python",
   "nbconvert_exporter": "python",
   "pygments_lexer": "ipython3",
   "version": "3.8.17"
  },
  "orig_nbformat": 4
 },
 "nbformat": 4,
 "nbformat_minor": 2
}
