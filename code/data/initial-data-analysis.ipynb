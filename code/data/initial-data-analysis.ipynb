{
 "cells": [
  {
   "cell_type": "code",
   "execution_count": 1,
   "metadata": {},
   "outputs": [],
   "source": [
    "import pandas as pd\n",
    "import numpy as np\n",
    "import matplotlib.pyplot as plt\n",
    "\n",
    "import os\n",
    "import re\n",
    "\n",
    "import h5py\n",
    "from tqdm import tqdm"
   ]
  },
  {
   "cell_type": "code",
   "execution_count": 6,
   "metadata": {},
   "outputs": [
    {
     "name": "stdout",
     "output_type": "stream",
     "text": [
      "loading ./A_nodes.hdf5\n",
      "saved under A_nodes.csv\n",
      "loading ./C_nodes.hdf5\n",
      "saved under C_nodes.csv\n",
      "loading ./B_nodes.hdf5\n",
      "saved under B_nodes.csv\n"
     ]
    }
   ],
   "source": [
    "# this will load the data from the hdf5 file and format it as a pandas dataframe\n",
    "# the hdf5 files need to be in the current directory (same as the notebook)\n",
    "# ONLY RUN THIS CELL ONCE TO GET THE CSV FILES\n",
    "\n",
    "from utils import load_and_format_data_as_df\n",
    "\n",
    "for dirname, _, filenames in os.walk('./'):\n",
    "    for filename in filenames:\n",
    "        path = os.path.join(dirname, filename)\n",
    "        if '.hdf5' in filename:\n",
    "            print(f'loading {path}')\n",
    "            df = load_and_format_data_as_df(path)\n",
    "            df.to_csv(f\"./{filename.replace('.hdf5', '.csv')}\", index=False)\n",
    "            print(f'saved under {filename.replace(\".hdf5\", \".csv\")}')"
   ]
  },
  {
   "cell_type": "code",
   "execution_count": 2,
   "metadata": {},
   "outputs": [],
   "source": [
    "df_A = pd.read_csv('A_nodes.csv', index_col=0)\n",
    "df_B = pd.read_csv('B_nodes.csv', index_col=0)\n",
    "df_C = pd.read_csv('C_nodes.csv', index_col=0)"
   ]
  }
 ],
 "metadata": {
  "kernelspec": {
   "display_name": "dev",
   "language": "python",
   "name": "python3"
  },
  "language_info": {
   "codemirror_mode": {
    "name": "ipython",
    "version": 3
   },
   "file_extension": ".py",
   "mimetype": "text/x-python",
   "name": "python",
   "nbconvert_exporter": "python",
   "pygments_lexer": "ipython3",
   "version": "3.8.17"
  },
  "orig_nbformat": 4
 },
 "nbformat": 4,
 "nbformat_minor": 2
}
