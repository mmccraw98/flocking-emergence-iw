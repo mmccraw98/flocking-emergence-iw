{
 "cells": [
  {
   "cell_type": "code",
   "execution_count": 1,
   "metadata": {},
   "outputs": [],
   "source": [
    "import pandas as pd\n",
    "import numpy as np\n",
    "import matplotlib.pyplot as plt\n",
    "\n",
    "import os\n",
    "import re\n",
    "\n",
    "import h5py\n",
    "from tqdm import tqdm\n",
    "\n",
    "from utils import load_and_format_data_as_df, get_birds_in_time_range, get_velocity_order_parameter"
   ]
  },
  {
   "cell_type": "code",
   "execution_count": 2,
   "metadata": {},
   "outputs": [],
   "source": [
    "# # this will load the data from the hdf5 file and format it as a pandas dataframe\n",
    "# # the hdf5 files need to be in the current directory (same as the notebook)\n",
    "# # ONLY RUN THIS CELL ONCE TO GET THE CSV FILES\n",
    "\n",
    "# for dirname, _, filenames in os.walk('./'):\n",
    "#     for filename in filenames:\n",
    "#         path = os.path.join(dirname, filename)\n",
    "#         if '.hdf5' in filename:\n",
    "#             print(f'loading {path}')\n",
    "#             df = load_and_format_data_as_df(path)\n",
    "#             df.to_csv(f\"./{filename.replace('.hdf5', '.csv')}\", index=False)\n",
    "#             print(f'saved under {filename.replace(\".hdf5\", \".csv\")}')"
   ]
  },
  {
   "cell_type": "code",
   "execution_count": 3,
   "metadata": {},
   "outputs": [],
   "source": [
    "df_A = pd.read_csv('A_nodes.csv', index_col=0)\n",
    "df_B = pd.read_csv('B_nodes.csv', index_col=0)\n",
    "df_C = pd.read_csv('C_nodes.csv', index_col=0)"
   ]
  },
  {
   "cell_type": "code",
   "execution_count": null,
   "metadata": {},
   "outputs": [],
   "source": [
    "# data encompasses \"flock formation, circling, and landing\" over a 30 minute period\n",
    "# ~1800 chimney swift birds\n",
    "# there are regions reported where the birds are highly correlated - when flying - and less correlated - when landing - as the intention of the study"
   ]
  },
  {
   "cell_type": "code",
   "execution_count": null,
   "metadata": {},
   "outputs": [
    {
     "data": {
      "text/plain": [
       "(8.505727950172396, 9.431653876098322, 8.19263708152597)"
      ]
     },
     "execution_count": 5,
     "metadata": {},
     "output_type": "execute_result"
    }
   ],
   "source": [
    "# range of time in minutes\n",
    "(df_A.time.max() - df_A.time.min()) / 60, (df_B.time.max() - df_B.time.min()) / 60, (df_C.time.max() - df_C.time.min()) / 60"
   ]
  },
  {
   "cell_type": "code",
   "execution_count": null,
   "metadata": {},
   "outputs": [
    {
     "data": {
      "text/plain": [
       "count    24966.000000\n",
       "mean         7.405351\n",
       "std          6.848828\n",
       "min          0.934268\n",
       "25%          2.535869\n",
       "50%          5.071738\n",
       "75%         10.010010\n",
       "max        100.066733\n",
       "dtype: float64"
      ]
     },
     "execution_count": 6,
     "metadata": {},
     "output_type": "execute_result"
    }
   ],
   "source": [
    "# individual time ranges for tracks\n",
    "# A\n",
    "df_A.groupby('tid').apply(lambda x: x.time.max() - x.time.min()).describe()"
   ]
  },
  {
   "cell_type": "code",
   "execution_count": null,
   "metadata": {},
   "outputs": [
    {
     "data": {
      "text/plain": [
       "count    78498.000000\n",
       "mean         6.520097\n",
       "std          5.619826\n",
       "min          0.934268\n",
       "25%          2.435769\n",
       "50%          4.671338\n",
       "75%          8.842176\n",
       "max         59.092426\n",
       "dtype: float64"
      ]
     },
     "execution_count": 7,
     "metadata": {},
     "output_type": "execute_result"
    }
   ],
   "source": [
    "# individual time ranges for tracks\n",
    "# B\n",
    "df_B.groupby('tid').apply(lambda x: x.time.max() - x.time.min()).describe()"
   ]
  },
  {
   "cell_type": "code",
   "execution_count": null,
   "metadata": {},
   "outputs": [
    {
     "data": {
      "text/plain": [
       "count    39403.000000\n",
       "mean         4.478242\n",
       "std          3.859843\n",
       "min          0.934268\n",
       "25%          1.968635\n",
       "50%          3.169837\n",
       "75%          5.472139\n",
       "max         42.442442\n",
       "dtype: float64"
      ]
     },
     "execution_count": 8,
     "metadata": {},
     "output_type": "execute_result"
    }
   ],
   "source": [
    "# individual time ranges for tracks\n",
    "# C\n",
    "df_C.groupby('tid').apply(lambda x: x.time.max() - x.time.min()).describe()"
   ]
  },
  {
   "cell_type": "code",
   "execution_count": null,
   "metadata": {},
   "outputs": [
    {
     "data": {
      "text/plain": [
       "[<matplotlib.lines.Line2D at 0x151371b20>]"
      ]
     },
     "execution_count": 29,
     "metadata": {},
     "output_type": "execute_result"
    },
    {
     "data": {
      "image/png": "[encoded data removed]",
      "text/plain": [
       "<Figure size 640x480 with 1 Axes>"
      ]
     },
     "metadata": {},
     "output_type": "display_data"
    }
   ],
   "source": [
    "# get all tracks that last for the entire duration\n",
    "\n",
    "\n",
    "time_start = 40\n",
    "time_end = 45\n",
    "\n",
    "\n",
    "df = get_birds_in_time_range(df_A, time_start, time_end)\n",
    "\n",
    "vel_order = get_velocity_order_parameter(df)\n",
    "\n",
    "plt.plot(vel_order)\n",
    "\n"
   ]
  },
  {
   "cell_type": "code",
   "execution_count": 65,
   "metadata": {},
   "outputs": [],
   "source": [
    "# calculate velocity order parameter\n",
    "\n"
   ]
  }
 ],
 "metadata": {
  "kernelspec": {
   "display_name": "dev",
   "language": "python",
   "name": "python3"
  },
  "language_info": {
   "codemirror_mode": {
    "name": "ipython",
    "version": 3
   },
   "file_extension": ".py",
   "mimetype": "text/x-python",
   "name": "python",
   "nbconvert_exporter": "python",
   "pygments_lexer": "ipython3",
   "version": "3.8.17"
  },
  "orig_nbformat": 4
 },
 "nbformat": 4,
 "nbformat_minor": 2
}
